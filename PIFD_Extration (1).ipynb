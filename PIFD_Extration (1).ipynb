{
  "nbformat": 4,
  "nbformat_minor": 0,
  "metadata": {
    "colab": {
      "provenance": []
    },
    "kernelspec": {
      "name": "python3",
      "display_name": "Python 3"
    },
    "language_info": {
      "name": "python"
    }
  },
  "cells": [
    {
      "cell_type": "code",
      "source": [
        "import cv2\n",
        "import numpy as np\n",
        "import matplotlib.pyplot as plt\n",
        "from PIL import Image\n",
        "import scipy.ndimage\n",
        "from scipy import interpolate\n",
        "import scipy.misc\n",
        "import scipy.signal\n",
        "from matplotlib import cm\n",
        "import math\n",
        "from PIL import Image\n",
        "import pandas as pd\n",
        "from numpy.fft import fft2, fftshift, ifftshift\n",
        "from sklearn.model_selection import train_test_split\n",
        "from sklearn.preprocessing import StandardScaler\n",
        "from sklearn.ensemble import RandomForestClassifier\n",
        "from sklearn.metrics import classification_report"
      ],
      "metadata": {
        "id": "BQf3E8ZV39Lj"
      },
      "execution_count": 1,
      "outputs": []
    },
    {
      "cell_type": "code",
      "source": [
        "from google.colab import drive\n",
        "drive.mount('/content/drive')\n",
        "%cd '/content/drive/MyDrive/MIA_Final_Project'"
      ],
      "metadata": {
        "colab": {
          "base_uri": "https://localhost:8080/"
        },
        "id": "XkxLg8doLaMV",
        "outputId": "0e993fc7-c922-4ee7-c6c5-10a8848ebf08"
      },
      "execution_count": 2,
      "outputs": [
        {
          "output_type": "stream",
          "name": "stdout",
          "text": [
            "Drive already mounted at /content/drive; to attempt to forcibly remount, call drive.mount(\"/content/drive\", force_remount=True).\n",
            "/content/drive/.shortcut-targets-by-id/1SvB1VAh73sq76RVpYlFopJXnaAVurzD4/MIA_Final_Project\n"
          ]
        }
      ]
    },
    {
      "cell_type": "code",
      "source": [
        "image = plt.imread('original/apple-1.gif')\n",
        "plt.set_cmap(\"gray\")\n",
        "plt.imshow(image)"
      ],
      "metadata": {
        "id": "EJEIXGqq47Ha",
        "colab": {
          "base_uri": "https://localhost:8080/",
          "height": 453
        },
        "outputId": "27d80efd-ba1f-4cc1-f1f3-661665e4a0fe"
      },
      "execution_count": 3,
      "outputs": [
        {
          "output_type": "execute_result",
          "data": {
            "text/plain": [
              "<matplotlib.image.AxesImage at 0x7c8c56474430>"
            ]
          },
          "metadata": {},
          "execution_count": 3
        },
        {
          "output_type": "display_data",
          "data": {
            "text/plain": [
              "<Figure size 640x480 with 1 Axes>"
            ],
            "image/png": "[encoded data removed]"
          },
          "metadata": {}
        }
      ]
    },
    {
      "cell_type": "code",
      "source": [
        "def plot_descriptors(d):\n",
        "  # Inverse Fourier Transform to get back contour points\n",
        "  reconstructed_contour = np.fft.ifft(d)\n",
        "  # Extract the real and imaginary parts to plot\n",
        "  x_reconstructed = reconstructed_contour.real\n",
        "  y_reconstructed = reconstructed_contour.imag\n",
        "  plt.figure(figsize=(5, 5))\n",
        "  plt.plot(x_reconstructed, -1*y_reconstructed, 'r-', label='Reconstructed Contour')\n",
        "  plt.title('Reconstructed Contour from Phase')\n",
        "  plt.axis('equal')\n",
        "  plt.show()"
      ],
      "metadata": {
        "id": "h_C4x5-7vv2o"
      },
      "execution_count": 4,
      "outputs": []
    },
    {
      "cell_type": "markdown",
      "source": [
        "# Refer step # from the original paper"
      ],
      "metadata": {
        "id": "7v5n7DKHGqvG"
      }
    },
    {
      "cell_type": "code",
      "source": [
        "def find_contour(image):\n",
        "  '''\n",
        "  Calculate contour of image, then translated and scale\n",
        "  Input parameter: image as a 2D ndarray\n",
        "  Returns: an Nx1 array of the scaled and translated contour, where\n",
        "           each contour is stored as Z = x + j * y\n",
        "  Returns: a, fourier coefficients\n",
        "  '''\n",
        "\n",
        "  contours, _ = cv2.findContours(image, cv2.RETR_EXTERNAL, cv2.CHAIN_APPROX_NONE)\n",
        "  largest_contour = max(contours, key=cv2.contourArea)\n",
        "  # reshape the contour into a Nx2 array\n",
        "  P = largest_contour.reshape(largest_contour.shape[0], largest_contour.shape[-1])\n",
        "  Z = P[:,0] + 1j*P[:,1]\n",
        "  Zc = np.mean(Z)\n",
        "  # a = np.fft.fft(Z)\n",
        "  a = np.zeros_like(Z)*1j\n",
        "  N = Z.shape[0]\n",
        "  for k in range(N):\n",
        "    sum = 0\n",
        "    for n in range(N):\n",
        "      sum += Z[n] * np.exp(-1j*2*np.pi*n*k/N)\n",
        "    a[k] = sum/N\n",
        "\n",
        "  Sc = np.sum( np.abs(a[1:]) )\n",
        "  return (Z - Zc) / Sc, a, Sc\n",
        "\n",
        "# step 2\n",
        "def sort_coef(a, M=30):\n",
        "  '''\n",
        "  Step 2 of the algorithm: assume we don't sort\n",
        "  Inputs: Fourier coefficients and number of fourier coefficients we want to keep\n",
        "  Return: R_ind, a list of the first R largest coefficients\n",
        "  '''\n",
        "  a = np.abs(a[1:])\n",
        "  am = np.concatenate((a[-M//2:], a[1:M//2+1]))\n",
        "  M_ind = am.argsort()[::-1]\n",
        "  # M_ind = M_ind[:M]\n",
        "  M_ind = np.concatenate((M_ind[-M//2:], M_ind[1:M//2+1]))\n",
        "  am = a[M_ind]\n",
        "  target = .95 * np.sum(am)\n",
        "  R = []\n",
        "  current_sum = 0\n",
        "\n",
        "  for index in M_ind:\n",
        "      current_sum += am[index]\n",
        "      R.append(index)\n",
        "      if current_sum > target:\n",
        "          break\n",
        "\n",
        "  return np.array(R)\n",
        "\n",
        "# step 3 and step 4\n",
        "def derotate_all_contours(Z, a, Sc,M=30):\n",
        "  '''\n",
        "  Input: Nx1 array of the contour, assume we don't actually sort\n",
        "  Input: a_M, a list\n",
        "  Output: NxN array of the contour, calculated using each point as the starting point\n",
        "  Output: NxM array of coefficient\n",
        "  Output : a0\n",
        "  '''\n",
        "  N = Z.shape[0]\n",
        "  contours = np.ones((N, N))*1j\n",
        "  coefficients = np.ones((N, M))*1j\n",
        "  ang = np.angle(Z[0])\n",
        "\n",
        "  contours[0, :] = np.exp(-1j * ang) * Z\n",
        "  a0 = np.exp(-1j * ang) * Sc * a\n",
        "  coefficients[0, :] = np.concatenate((a0[-M//2:], a0[1:M//2+1]))\n",
        "  for m in range(1, N):\n",
        "    c = []\n",
        "    Zm = np.concatenate((Z[m:], Z[:m]))\n",
        "    ang_m = np.angle(Zm[0])\n",
        "    Z = np.exp(-1j * ang_m) * Zm\n",
        "    contours[m, :] = Z\n",
        "    for k in range(-M//2, M//2+1):\n",
        "      if k == 0:\n",
        "        continue\n",
        "      else:\n",
        "        c.append(np.exp(-1j * ang_m) * np.exp(2j*np.pi*m*k/N) * np.exp(1j *ang) * a0[k])\n",
        "    coefficients[m,:] = np.array(c).T\n",
        "  return contours, coefficients, a0\n",
        "\n",
        " # step 5\n",
        "def objective_function(coefficients, R_ind):\n",
        "  '''\n",
        "  Input:\n",
        "          coefficients: A 2D array where each row contains complex coefficient\n",
        "          R_ind : An array of indices specifying which coefficients in each row should be considered in the summation.\n",
        "\n",
        "  Output: f[m]\n",
        "  '''\n",
        "  f = np.ones((coefficients.shape[0], 1))\n",
        "  for m in range(coefficients.shape[0]):\n",
        "    am = coefficients[m, :]\n",
        "    f[m] = 2 * np.sum( np.abs( np.imag(am[R_ind])) )\n",
        "  return f"
      ],
      "metadata": {
        "id": "pj8BzbDEVdt6"
      },
      "execution_count": 5,
      "outputs": []
    },
    {
      "cell_type": "code",
      "source": [
        "# step 6 and 7\n",
        "def sort_points_and_find_local_minima(fm, Q = 6):\n",
        "  '''\n",
        "  sort pairs (m, f(m)) in ascending order\n",
        "  return: Q best local minima\n",
        "  '''\n",
        "  local_minima = []\n",
        "  for i in range(1, len(fm)-1):\n",
        "    if fm[i - 1] > fm[i] and fm[i] < fm[i + 1]:\n",
        "      local_minima.append((fm[i][0], i))\n",
        "\n",
        "  sorted_lm = sorted(local_minima)\n",
        "  lm = np.array(sorted_lm)\n",
        "  val = min(Q, len(local_minima))\n",
        "  lm = lm[:val, :]\n",
        "\n",
        "  return lm[:, 1]\n"
      ],
      "metadata": {
        "id": "L6fKsmuiVVAj"
      },
      "execution_count": 6,
      "outputs": []
    },
    {
      "cell_type": "code",
      "source": [
        "# step 8 and 9\n",
        "def interpolate_phase_function(lm_index, Z, a0, N, R_ind, Q = 6, M = 30, S=1, delta_m = 0.05):\n",
        "    '''\n",
        "    compute finer pseudomirrror points\n",
        "    return: new coefficients, ms_fine: 1D array (best Q local minima)\n",
        "    '''\n",
        "    arg_Z0 = np.angle(Z[0])\n",
        "    coefficients = np.ones((N, M), dtype=np.complex128)\n",
        "\n",
        "    for lm_idx in lm_index:\n",
        "        x = np.arange(lm_idx - S, lm_idx + S + delta_m, delta_m)\n",
        "        y = np.angle(Z[x.astype(int)])\n",
        "        g = interpolate.interp1d(x, y, kind='linear', fill_value='extrapolate')\n",
        "\n",
        "    for m in range(1, N):\n",
        "      c = []\n",
        "      Zm = np.concatenate((Z[m:], Z[:m]))\n",
        "      ang_m = np.angle(Zm[0])\n",
        "      for k in range(-M//2, M//2+1):\n",
        "        if k == 0:\n",
        "            continue\n",
        "        else:\n",
        "          c.append(np.exp(-1j * g(m)) * np.exp(2j*np.pi*m*k/N) * \\\n",
        "              np.exp(1j * arg_Z0) * a0[k])\n",
        "      coefficients[m,:] = np.array(c).T\n",
        "\n",
        "    f = objective_function(coefficients, R_ind)\n",
        "    ms_fine = sort_points_and_find_local_minima(f)\n",
        "\n",
        "    return coefficients, ms_fine"
      ],
      "metadata": {
        "id": "Us2iiBd8u0HN"
      },
      "execution_count": 7,
      "outputs": []
    },
    {
      "cell_type": "code",
      "source": [
        "# step 10\n",
        "def get_pifd_descriptors(coefficients, ms_fine_index):\n",
        "  descriptors = []\n",
        "  for i in ms_fine_index:\n",
        "    descriptors.append(coefficients[i])\n",
        "  return np.array(descriptors)"
      ],
      "metadata": {
        "id": "YlQC4du5xf7V"
      },
      "execution_count": 8,
      "outputs": []
    },
    {
      "cell_type": "code",
      "source": [
        "# aggregate all previous steps\n",
        "def find_pifd(image, Q, M):\n",
        "  Z, a, Sc = find_contour(image)\n",
        "  R = sort_coef(a, M)\n",
        "  new_Z, new_a, a0 = derotate_all_contours(Z, a, Sc,M)\n",
        "  N = Z.shape[0]\n",
        "  f = objective_function(new_a, R)\n",
        "  lm = sort_points_and_find_local_minima(f, Q)\n",
        "  lm_index = np.array([int(i) for i in lm])\n",
        "  coefficients, ms_fine = interpolate_phase_function(lm_index, Z, a0, N, R, M , S=1, delta_m = 0.05)\n",
        "  ms_fine_index = np.array([int(i) for i in ms_fine])\n",
        "  pifd = get_pifd_descriptors(coefficients, ms_fine_index)\n",
        "  return pifd\n"
      ],
      "metadata": {
        "id": "b_dzzrGPcQfH"
      },
      "execution_count": 9,
      "outputs": []
    },
    {
      "cell_type": "markdown",
      "source": [
        "# Now test on the apple image"
      ],
      "metadata": {
        "id": "7mt3JMAT0_4D"
      }
    },
    {
      "cell_type": "code",
      "source": [
        "pifd = find_pifd(image, Q=6, M=30)"
      ],
      "metadata": {
        "id": "2hGo-iOXL9yF"
      },
      "execution_count": 10,
      "outputs": []
    },
    {
      "cell_type": "code",
      "source": [
        "pifd.shape"
      ],
      "metadata": {
        "colab": {
          "base_uri": "https://localhost:8080/"
        },
        "id": "YfrWlQqMEVK6",
        "outputId": "c527f046-91f9-48c0-8bbc-93d092d973fa"
      },
      "execution_count": 11,
      "outputs": [
        {
          "output_type": "execute_result",
          "data": {
            "text/plain": [
              "(6, 30)"
            ]
          },
          "metadata": {},
          "execution_count": 11
        }
      ]
    },
    {
      "cell_type": "code",
      "source": [
        "pifd"
      ],
      "metadata": {
        "colab": {
          "base_uri": "https://localhost:8080/"
        },
        "id": "MPu_yXMfMY5f",
        "outputId": "f88e742f-5b2e-44da-b209-53087074f83e"
      },
      "execution_count": 12,
      "outputs": [
        {
          "output_type": "execute_result",
          "data": {
            "text/plain": [
              "array([[ 4.71749475e+01+5.28059808e+01j,  7.24404852e+01-5.32540615e+01j,\n",
              "        -9.25941391e+01-1.28560475e+02j, -1.88849995e+02+6.93176589e+01j,\n",
              "         4.90596295e+00+1.69784292e+02j,  1.70328647e+02+8.34683555e+01j,\n",
              "         1.17102418e+02-6.41909473e+01j,  8.96755077e+01-4.37899693e+01j,\n",
              "         1.07420395e+02-1.40413821e+02j,  4.36264398e+00-7.27128318e+02j,\n",
              "        -5.03764515e+02-1.86354997e+02j, -3.61361208e+02+3.27591608e+02j,\n",
              "        -2.06033396e+02-4.10862028e+02j, -3.23786207e+03-2.96431575e+01j,\n",
              "         7.03910621e+03-1.46182100e+04j, -1.76140019e+03+4.63310692e+02j,\n",
              "        -2.22332816e+02+1.22109235e+03j,  4.14303326e+02+3.17125205e+02j,\n",
              "        -3.92213156e+01+1.72784483e+02j,  1.40658345e+02+3.27264571e+02j,\n",
              "         4.16425557e+02+4.75355674e+01j,  2.36925536e+02-4.21649089e+02j,\n",
              "        -2.06783353e+02-2.82706613e+02j, -2.66559787e+02+1.09020279e+02j,\n",
              "         3.47640470e+01+8.98750052e+01j,  1.08764696e+01-6.68235266e+01j,\n",
              "        -1.30259952e+02-1.99963525e+00j, -4.83854000e+01+1.27668177e+02j,\n",
              "         6.67028374e+01+9.67366576e+01j,  8.33089550e+01-4.27204948e+00j],\n",
              "       [-4.47534474e+01-5.48732742e+01j,  7.45229911e+01-5.02985363e+01j,\n",
              "         8.79777348e+01+1.31762622e+02j, -1.90889374e+02+6.34862601e+01j,\n",
              "        -4.97640260e-01-1.69854428e+02j,  1.68520571e+02+8.70610794e+01j,\n",
              "        -1.18142584e+02+6.22557946e+01j,  9.01816613e+01-4.27378762e+01j,\n",
              "        -1.08393150e+02+1.39664267e+02j,  5.95758643e+00-7.27116999e+02j,\n",
              "         5.04239801e+02+1.85065109e+02j, -3.58956194e+02+3.30225128e+02j,\n",
              "         2.10975276e+02+4.08346420e+02j, -3.23790270e+03+2.48117087e+01j,\n",
              "        -6.72217190e+03+1.47666342e+04j,  1.74615421e+03-5.17815487e+02j,\n",
              "        -1.78449208e+02+1.22827289e+03j, -4.26828135e+02-3.00055636e+02j,\n",
              "        -3.13506242e+01+1.74384424e+02j, -1.56866848e+02-3.19811916e+02j,\n",
              "         4.18405073e+02+2.46387919e+01j, -2.11392609e+02+4.35011297e+02j,\n",
              "        -2.24533779e+02-2.68825159e+02j,  2.58396560e+02-1.27164298e+02j,\n",
              "         4.13006256e+01+8.70649978e+01j, -5.59570433e+00+6.74712487e+01j,\n",
              "        -1.29974159e+02+8.85277516e+00j,  3.69634805e+01-1.31430634e+02j,\n",
              "         7.53857203e+01+9.01345806e+01j, -8.24960029e+01+1.23710106e+01j],\n",
              "       [-6.97435724e+01-1.22385209e+01j,  2.75728251e+01-8.55766223e+01j,\n",
              "         1.48041597e+02+5.64371847e+01j, -1.26398384e+02+1.56501460e+02j,\n",
              "        -8.52418322e+01-1.46916998e+02j,  1.89680587e+02+2.98971170e-01j,\n",
              "        -8.16727754e+01+1.05655155e+02j,  6.78798537e+01-7.31545184e+01j,\n",
              "        -5.68363019e+01+1.67406144e+02j, -1.98834085e+02-6.99428074e+02j,\n",
              "         5.33634837e+02+6.11615196e+01j, -2.90086829e+02+3.92106894e+02j,\n",
              "         2.66860768e+02+3.74222790e+02j, -3.22093057e+03+3.32017691e+02j,\n",
              "        -6.01301840e+03+1.50693294e+04j,  1.76878380e+03-4.34270989e+02j,\n",
              "        -2.94222278e+02+1.20579088e+03j, -3.79858548e+02-3.57663424e+02j,\n",
              "        -6.37389299e+01+1.65318293e+02j, -7.71717171e+01-3.47751917e+02j,\n",
              "         3.94576287e+02+1.41348607e+02j, -3.41872034e+02+3.42118657e+02j,\n",
              "        -1.08729575e+02-3.32956850e+02j,  2.87866278e+02-8.51747415e+00j,\n",
              "        -3.11667448e+00+9.63137678e+01j, -3.85375649e+01+5.56645075e+01j,\n",
              "        -1.14181637e+02-6.27232614e+01j,  1.06266610e+02-8.57188312e+01j,\n",
              "         3.65808612e+00+1.17447298e+02j, -7.04958230e+01-4.45978849e+01j],\n",
              "       [-7.08063067e+01+6.43589960e-01j, -3.10220062e+01+8.43875233e+01j,\n",
              "         1.28189071e+02+9.31076385e+01j,  1.84969642e+02-7.90916547e+01j,\n",
              "         3.12422994e+01-1.66957159e+02j, -1.12531879e+02-1.52693781e+02j,\n",
              "        -1.29561882e+02-3.23600486e+01j, -8.46539884e+01-5.28484658e+01j,\n",
              "        -1.65411527e+02-6.24035977e+01j, -7.26993931e+02+1.46440577e+01j,\n",
              "        -3.00766855e+02+4.45023786e+02j,  1.11314147e+02+4.74876136e+02j,\n",
              "        -4.38066652e+02-1.39122156e+02j, -2.80490277e+03+1.61776077e+03j,\n",
              "         2.94630024e+03-1.59549489e+04j, -1.82124186e+03-1.62949258e+01j,\n",
              "        -8.11307248e+02+9.39297052e+02j,  6.19497667e+01+5.18051993e+02j,\n",
              "        -1.70134279e+02+4.94683361e+01j, -2.84446265e+02+2.14422928e+02j,\n",
              "        -5.84035901e+01+4.15040836e+02j,  3.35494134e+02+3.48375300e+02j,\n",
              "         3.49325938e+02-2.55689954e+01j,  1.21722299e+02-2.61004259e+02j,\n",
              "        -7.23399479e+01-6.36630776e+01j,  3.55454514e+00+6.76095149e+01j,\n",
              "         1.29977480e+02+8.80387808e+00j,  8.59235198e+01-1.06101174e+02j,\n",
              "        -2.24086842e+00-1.17482884e+02j, -5.81472304e+01-5.98124735e+01j],\n",
              "       [ 7.07636590e+01+2.54004719e+00j, -3.43897205e+01+8.30720536e+01j,\n",
              "        -1.24807288e+02-9.75941151e+01j,  1.87310966e+02-7.33747950e+01j,\n",
              "        -3.55650678e+01+1.66090037e+02j, -1.09269005e+02-1.55045474e+02j,\n",
              "         1.29011990e+02+3.44871072e+01j, -8.40299313e+01-5.38351998e+01j,\n",
              "         1.64974067e+02+6.35510786e+01j, -7.27024303e+02+1.30493643e+01j,\n",
              "         2.99626927e+02-4.45792077e+02j,  1.14783472e+02+4.74049511e+02j,\n",
              "         4.39713219e+02+1.33826944e+02j, -2.77730047e+03+1.66470166e+03j,\n",
              "        -2.60148624e+03+1.60147853e+04j,  1.82086882e+03-4.03007739e+01j,\n",
              "        -7.77139875e+02+9.67756176e+02j, -8.29163666e+01-5.15112141e+02j,\n",
              "        -1.67717630e+02+5.71278012e+01j,  2.73354194e+02-2.28395172e+02j,\n",
              "        -3.55663763e+01+4.17618136e+02j, -3.55646945e+02-3.27775707e+02j,\n",
              "         3.46958906e+02-4.79781363e+01j, -1.03411222e+02+2.68785529e+02j,\n",
              "        -7.68400831e+01-5.81520175e+01j, -8.85247001e+00-6.71216439e+01j,\n",
              "         1.30259191e+02-2.04863908e+00j, -7.62537846e+01+1.13250478e+02j,\n",
              "        -1.31252660e+01-1.16768904e+02j,  6.36997459e+01+5.38606978e+01j],\n",
              "       [ 9.25778800e+00-7.02014291e+01j, -8.35478600e+01-3.32170746e+01j,\n",
              "        -8.14912508e+01+1.35869961e+02j,  1.14592714e+02+1.65341369e+02j,\n",
              "         1.68398196e+02-2.21995913e+01j,  9.18610399e+01-1.65952896e+02j,\n",
              "        -3.93924544e+01-1.27599720e+02j, -9.98025850e+00-9.92957831e+01j,\n",
              "        -7.07259759e+01-1.62027833e+02j, -5.72531270e+02-4.48266180e+02j,\n",
              "        -4.93436018e+02+2.12197472e+02j, -1.09303646e+02+4.75342926e+02j,\n",
              "        -3.65982907e+02-2.78053732e+02j, -3.09810107e+03+9.41487799e+02j,\n",
              "         4.74314107e+03-1.55159174e+04j, -1.81126106e+03+1.91104181e+02j,\n",
              "        -5.77854902e+02+1.09844532e+03j,  2.32195877e+02+4.67226622e+02j,\n",
              "        -1.30934313e+02+1.19369153e+02j, -1.23654360e+02+3.34060577e+02j,\n",
              "         2.17141735e+02+3.58495944e+02j,  4.83646455e+02+2.78743828e+00j,\n",
              "         1.93470881e+02-2.91978428e+02j, -1.60281680e+02-2.39268310e+02j,\n",
              "        -8.80289600e+01+3.92040523e+01j,  6.53654743e+01+1.76362149e+01j,\n",
              "         3.47013125e+01-1.25568597e+02j, -9.81460705e+01-9.49086894e+01j,\n",
              "        -1.17384177e+02+5.31079472e+00j, -5.10995593e+01+6.59353277e+01j]])"
            ]
          },
          "metadata": {},
          "execution_count": 12
        }
      ]
    },
    {
      "cell_type": "code",
      "source": [
        "# Inverse Fourier Transform to get back contour points\n",
        "reconstructed_contour = np.fft.ifft(np.fft.fftshift(pifd[3]))\n",
        "# Extract the real and imaginary parts to plot\n",
        "x_reconstructed = reconstructed_contour.real\n",
        "y_reconstructed = reconstructed_contour.imag\n",
        "plt.figure(figsize=(5, 5))\n",
        "plt.plot(x_reconstructed, -1*y_reconstructed, 'r-', label='Reconstructed Contour')\n",
        "plt.title('Reconstructed Contour from PIFD')\n",
        "plt.axis('equal')\n",
        "plt.show()"
      ],
      "metadata": {
        "colab": {
          "base_uri": "https://localhost:8080/",
          "height": 468
        },
        "id": "t5APclsazTs5",
        "outputId": "512865fb-4554-4282-fe84-35711337a48f"
      },
      "execution_count": 13,
      "outputs": [
        {
          "output_type": "display_data",
          "data": {
            "text/plain": [
              "<Figure size 500x500 with 1 Axes>"
            ],
            "image/png": "[encoded data removed]"
          },
          "metadata": {}
        }
      ]
    },
    {
      "cell_type": "code",
      "source": [
        "  # Inverse Fourier Transform to get back contour points\n",
        "  a = find_contour(image)[1]\n",
        "  reconstructed_contour = np.fft.ifft(a)\n",
        "  # Extract the real and imaginary parts to plot\n",
        "  x_reconstructed = reconstructed_contour.real\n",
        "  y_reconstructed = reconstructed_contour.imag\n",
        "  plt.figure(figsize=(5, 5))\n",
        "  plt.plot(x_reconstructed, -1*y_reconstructed, 'r-', label='Reconstructed Contour')\n",
        "  plt.title('Reconstructed Contour from Original Fourier Descriptor')\n",
        "  plt.axis('equal')\n",
        "  plt.show()"
      ],
      "metadata": {
        "colab": {
          "base_uri": "https://localhost:8080/",
          "height": 468
        },
        "id": "Z_Exxwmm2iSV",
        "outputId": "f74d1829-08ae-456d-d7ed-8c300f8ed508"
      },
      "execution_count": 14,
      "outputs": [
        {
          "output_type": "display_data",
          "data": {
            "text/plain": [
              "<Figure size 500x500 with 1 Axes>"
            ],
            "image/png": "[encoded data removed]"
          },
          "metadata": {}
        }
      ]
    }
  ]
}